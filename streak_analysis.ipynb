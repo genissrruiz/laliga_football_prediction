{
 "cells": [
  {
   "cell_type": "code",
   "execution_count": 109,
   "metadata": {},
   "outputs": [],
   "source": [
    "import pandas as pd\n",
    "import numpy as np\n",
    "import matplotlib.pyplot as plt\n",
    "import seaborn as sns\n",
    "import os"
   ]
  },
  {
   "cell_type": "markdown",
   "metadata": {},
   "source": [
    "Let's compare the different streaks:"
   ]
  },
  {
   "cell_type": "code",
   "execution_count": 110,
   "metadata": {},
   "outputs": [
    {
     "data": {
      "text/html": [
       "<div>\n",
       "<style scoped>\n",
       "    .dataframe tbody tr th:only-of-type {\n",
       "        vertical-align: middle;\n",
       "    }\n",
       "\n",
       "    .dataframe tbody tr th {\n",
       "        vertical-align: top;\n",
       "    }\n",
       "\n",
       "    .dataframe thead th {\n",
       "        text-align: right;\n",
       "    }\n",
       "</style>\n",
       "<table border=\"1\" class=\"dataframe\">\n",
       "  <thead>\n",
       "    <tr style=\"text-align: right;\">\n",
       "      <th></th>\n",
       "      <th>id</th>\n",
       "      <th>season</th>\n",
       "      <th>division</th>\n",
       "      <th>round</th>\n",
       "      <th>localTeam</th>\n",
       "      <th>visitorTeam</th>\n",
       "      <th>localGoals</th>\n",
       "      <th>visitorGoals</th>\n",
       "      <th>date</th>\n",
       "      <th>result</th>\n",
       "      <th>...</th>\n",
       "      <th>local_3streak</th>\n",
       "      <th>visitor_3streak</th>\n",
       "      <th>local_5streak</th>\n",
       "      <th>visitor_5streak</th>\n",
       "      <th>last_1ra_loc</th>\n",
       "      <th>last_1ra_vis</th>\n",
       "      <th>Rk_loc</th>\n",
       "      <th>Rk_vis</th>\n",
       "      <th>last_top6_loc</th>\n",
       "      <th>last_top6_vis</th>\n",
       "    </tr>\n",
       "  </thead>\n",
       "  <tbody>\n",
       "    <tr>\n",
       "      <th>0</th>\n",
       "      <td>11702</td>\n",
       "      <td>1987-88</td>\n",
       "      <td>1</td>\n",
       "      <td>1</td>\n",
       "      <td>Atletico de Bilbao</td>\n",
       "      <td>Mallorca</td>\n",
       "      <td>2</td>\n",
       "      <td>1</td>\n",
       "      <td>1987-08-29</td>\n",
       "      <td>2</td>\n",
       "      <td>...</td>\n",
       "      <td>0.0</td>\n",
       "      <td>0.0</td>\n",
       "      <td>0.0</td>\n",
       "      <td>0.0</td>\n",
       "      <td>1</td>\n",
       "      <td>1</td>\n",
       "      <td>1.0</td>\n",
       "      <td>1.0</td>\n",
       "      <td>0</td>\n",
       "      <td>0</td>\n",
       "    </tr>\n",
       "    <tr>\n",
       "      <th>1</th>\n",
       "      <td>11703</td>\n",
       "      <td>1987-88</td>\n",
       "      <td>1</td>\n",
       "      <td>1</td>\n",
       "      <td>Espanol</td>\n",
       "      <td>Celta de Vigo</td>\n",
       "      <td>0</td>\n",
       "      <td>1</td>\n",
       "      <td>1987-08-29</td>\n",
       "      <td>0</td>\n",
       "      <td>...</td>\n",
       "      <td>0.0</td>\n",
       "      <td>0.0</td>\n",
       "      <td>0.0</td>\n",
       "      <td>0.0</td>\n",
       "      <td>1</td>\n",
       "      <td>1</td>\n",
       "      <td>1.0</td>\n",
       "      <td>1.0</td>\n",
       "      <td>0</td>\n",
       "      <td>0</td>\n",
       "    </tr>\n",
       "    <tr>\n",
       "      <th>2</th>\n",
       "      <td>11704</td>\n",
       "      <td>1987-88</td>\n",
       "      <td>1</td>\n",
       "      <td>1</td>\n",
       "      <td>Sporting de Gijon</td>\n",
       "      <td>Valladolid</td>\n",
       "      <td>0</td>\n",
       "      <td>0</td>\n",
       "      <td>1987-08-29</td>\n",
       "      <td>1</td>\n",
       "      <td>...</td>\n",
       "      <td>0.0</td>\n",
       "      <td>0.0</td>\n",
       "      <td>0.0</td>\n",
       "      <td>0.0</td>\n",
       "      <td>1</td>\n",
       "      <td>1</td>\n",
       "      <td>1.0</td>\n",
       "      <td>1.0</td>\n",
       "      <td>0</td>\n",
       "      <td>0</td>\n",
       "    </tr>\n",
       "    <tr>\n",
       "      <th>3</th>\n",
       "      <td>11705</td>\n",
       "      <td>1987-88</td>\n",
       "      <td>1</td>\n",
       "      <td>1</td>\n",
       "      <td>Valencia</td>\n",
       "      <td>Logrones</td>\n",
       "      <td>2</td>\n",
       "      <td>0</td>\n",
       "      <td>1987-08-29</td>\n",
       "      <td>2</td>\n",
       "      <td>...</td>\n",
       "      <td>0.0</td>\n",
       "      <td>0.0</td>\n",
       "      <td>0.0</td>\n",
       "      <td>0.0</td>\n",
       "      <td>1</td>\n",
       "      <td>1</td>\n",
       "      <td>1.0</td>\n",
       "      <td>1.0</td>\n",
       "      <td>0</td>\n",
       "      <td>0</td>\n",
       "    </tr>\n",
       "    <tr>\n",
       "      <th>4</th>\n",
       "      <td>11706</td>\n",
       "      <td>1987-88</td>\n",
       "      <td>1</td>\n",
       "      <td>1</td>\n",
       "      <td>Atletico de Madrid</td>\n",
       "      <td>Sabadell</td>\n",
       "      <td>1</td>\n",
       "      <td>0</td>\n",
       "      <td>1987-08-30</td>\n",
       "      <td>2</td>\n",
       "      <td>...</td>\n",
       "      <td>0.0</td>\n",
       "      <td>0.0</td>\n",
       "      <td>0.0</td>\n",
       "      <td>0.0</td>\n",
       "      <td>1</td>\n",
       "      <td>1</td>\n",
       "      <td>1.0</td>\n",
       "      <td>1.0</td>\n",
       "      <td>0</td>\n",
       "      <td>0</td>\n",
       "    </tr>\n",
       "  </tbody>\n",
       "</table>\n",
       "<p>5 rows × 30 columns</p>\n",
       "</div>"
      ],
      "text/plain": [
       "      id   season  division  round           localTeam    visitorTeam  \\\n",
       "0  11702  1987-88         1      1  Atletico de Bilbao       Mallorca   \n",
       "1  11703  1987-88         1      1             Espanol  Celta de Vigo   \n",
       "2  11704  1987-88         1      1   Sporting de Gijon     Valladolid   \n",
       "3  11705  1987-88         1      1            Valencia       Logrones   \n",
       "4  11706  1987-88         1      1  Atletico de Madrid       Sabadell   \n",
       "\n",
       "   localGoals  visitorGoals        date  result  ...  local_3streak  \\\n",
       "0           2             1  1987-08-29       2  ...            0.0   \n",
       "1           0             1  1987-08-29       0  ...            0.0   \n",
       "2           0             0  1987-08-29       1  ...            0.0   \n",
       "3           2             0  1987-08-29       2  ...            0.0   \n",
       "4           1             0  1987-08-30       2  ...            0.0   \n",
       "\n",
       "   visitor_3streak  local_5streak  visitor_5streak  last_1ra_loc  \\\n",
       "0              0.0            0.0              0.0             1   \n",
       "1              0.0            0.0              0.0             1   \n",
       "2              0.0            0.0              0.0             1   \n",
       "3              0.0            0.0              0.0             1   \n",
       "4              0.0            0.0              0.0             1   \n",
       "\n",
       "   last_1ra_vis  Rk_loc  Rk_vis  last_top6_loc  last_top6_vis  \n",
       "0             1     1.0     1.0              0              0  \n",
       "1             1     1.0     1.0              0              0  \n",
       "2             1     1.0     1.0              0              0  \n",
       "3             1     1.0     1.0              0              0  \n",
       "4             1     1.0     1.0              0              0  \n",
       "\n",
       "[5 rows x 30 columns]"
      ]
     },
     "execution_count": 110,
     "metadata": {},
     "output_type": "execute_result"
    }
   ],
   "source": [
    "df = pd.read_csv('laliga_optimized.csv')\n",
    "df.head()"
   ]
  },
  {
   "cell_type": "code",
   "execution_count": 111,
   "metadata": {},
   "outputs": [],
   "source": [
    "df.drop(['id','division','date'], axis=1, inplace=True)\n",
    "df.drop(['local_5streak', 'visitor_5streak','local_3streak','visitor_3streak','total_punts_loc','total_punts_vis'], axis=1, inplace=True)\n",
    "y = df['result']\n",
    "X = df.drop(['result'], axis=1)\n",
    "M_goals = df[['localGoals', 'visitorGoals']]\n",
    "X.drop(['localGoals', 'visitorGoals'], axis=1, inplace=True)\n",
    "\n",
    "XlocalTeam = X['localTeam']\n",
    "XvisitorTeam = X['visitorTeam']\n",
    "X.drop(['localTeam','visitorTeam'], axis = 1, inplace = True)"
   ]
  },
  {
   "cell_type": "markdown",
   "metadata": {},
   "source": [
    "STRATIFY:"
   ]
  },
  {
   "cell_type": "code",
   "execution_count": 115,
   "metadata": {},
   "outputs": [],
   "source": [
    "from sklearn.model_selection import StratifiedKFold\n",
    "from sklearn.model_selection import train_test_split\n",
    "skf = StratifiedKFold(n_splits=5, shuffle=True, random_state=33)\n",
    "\n",
    "X_train, X_test, y_train, y_test = train_test_split(X, y, test_size=0.25, random_state=33, stratify=y)"
   ]
  },
  {
   "cell_type": "code",
   "execution_count": 116,
   "metadata": {},
   "outputs": [],
   "source": [
    "X_train['season'] = X_train['season'].apply(lambda x: int(x[:4]))\n",
    "from sklearn.preprocessing import OrdinalEncoder\n",
    "\n",
    "ord_enc_season = OrdinalEncoder()\n",
    "ord_enc_round = OrdinalEncoder()\n",
    "ord_enc_month = OrdinalEncoder()\n",
    "ord_enc_day_of_week = OrdinalEncoder()\n",
    "\n",
    "X_train['season'] = ord_enc_season.fit(X_train['season'].values.reshape(-1, 1)).transform(X_train['season'].values.reshape(-1, 1))\n",
    "X_train['round'] = ord_enc_round.fit(X_train['round'].values.reshape(-1, 1)).transform(X_train['round'].values.reshape(-1, 1))\n",
    "X_train['month'] = ord_enc_month.fit(X_train['month'].values.reshape(-1, 1)).transform(X_train['month'].values.reshape(-1, 1))\n",
    "X_train['day_of_week'] = ord_enc_day_of_week.fit(X_train['day_of_week'].values.reshape(-1, 1)).transform(X_train['day_of_week'].values.reshape(-1, 1))\n",
    "\n"
   ]
  },
  {
   "cell_type": "markdown",
   "metadata": {},
   "source": [
    "#### NORMALIZE"
   ]
  },
  {
   "cell_type": "code",
   "execution_count": 117,
   "metadata": {},
   "outputs": [],
   "source": [
    "keys_normalizer = X_train.keys()\n",
    "from sklearn.preprocessing import StandardScaler\n",
    "scaler = StandardScaler()\n",
    "\n",
    "X_train = scaler.fit(X_train).transform(X_train)\n",
    "X_train = pd.DataFrame(X_train, columns=keys_normalizer)"
   ]
  },
  {
   "cell_type": "markdown",
   "metadata": {},
   "source": [
    "## MODELING:"
   ]
  },
  {
   "cell_type": "markdown",
   "metadata": {},
   "source": [
    "### LOGISTIC REGRESSION:"
   ]
  },
  {
   "cell_type": "code",
   "execution_count": 118,
   "metadata": {},
   "outputs": [
    {
     "name": "stdout",
     "output_type": "stream",
     "text": [
      "              precision    recall  f1-score   support\n",
      "\n",
      "           0       0.46      0.32      0.38      2102\n",
      "           1       0.40      0.01      0.02      2137\n",
      "           2       0.53      0.89      0.67      4026\n",
      "\n",
      "    accuracy                           0.52      8265\n",
      "   macro avg       0.46      0.41      0.35      8265\n",
      "weighted avg       0.48      0.52      0.43      8265\n",
      "\n"
     ]
    }
   ],
   "source": [
    "from sklearn.linear_model import LogisticRegression\n",
    "from sklearn.metrics import confusion_matrix, classification_report\n",
    "log_reg = LogisticRegression()\n",
    "#OvR by default\n",
    "log_reg.fit(X_train, y_train)\n",
    "y_train_pred = log_reg.predict(X_train)\n",
    "conf_log_reg_train = confusion_matrix(y_train, y_train_pred)\n",
    "print(classification_report(y_train, y_train_pred))\n"
   ]
  },
  {
   "cell_type": "code",
   "execution_count": 119,
   "metadata": {},
   "outputs": [
    {
     "name": "stdout",
     "output_type": "stream",
     "text": [
      "Basic Logistic Regression Train Accuracy:  0.5188142770719903\n"
     ]
    }
   ],
   "source": [
    "print(\"Basic Logistic Regression Train Accuracy: \", log_reg.score(X_train, y_train))"
   ]
  },
  {
   "cell_type": "code",
   "execution_count": 96,
   "metadata": {},
   "outputs": [
    {
     "name": "stderr",
     "output_type": "stream",
     "text": [
      "  0%|          | 0/1 [00:00<?, ?it/s]"
     ]
    },
    {
     "name": "stdout",
     "output_type": "stream",
     "text": [
      "Model:  Random Forest\n"
     ]
    },
    {
     "name": "stderr",
     "output_type": "stream",
     "text": [
      "100%|██████████| 1/1 [05:33<00:00, 333.87s/it]"
     ]
    },
    {
     "name": "stdout",
     "output_type": "stream",
     "text": [
      "Best score:  0.5203871748336357\n",
      "Best params:  {'max_depth': 10, 'min_samples_split': 3, 'n_estimators': 400}\n",
      "-----------------------------------------------------\n"
     ]
    },
    {
     "name": "stderr",
     "output_type": "stream",
     "text": [
      "\n"
     ]
    }
   ],
   "source": [
    "from sklearn.model_selection import GridSearchCV\n",
    "from sklearn.tree import DecisionTreeClassifier\n",
    "from sklearn.ensemble import RandomForestClassifier\n",
    "from sklearn.svm import SVC\n",
    "from sklearn.neighbors import KNeighborsClassifier\n",
    "from xgboost import XGBClassifier\n",
    "from sklearn.ensemble import BaggingClassifier\n",
    "from tqdm import tqdm\n",
    "\n",
    "models = {\n",
    "    #'Logistic Regression': (LogisticRegression(), {'penalty': ['l1', 'l2'], 'C': [0.001, 0.01, 0.1, 1, 10]}),\n",
    "    #'Decision Tree': (DecisionTreeClassifier(), {'max_depth': [3, 4, 5, 6, 7, 9], 'min_samples_split': [2, 3, 4, 5, 6]}),\n",
    "    'Random Forest': (RandomForestClassifier(), {'n_estimators': [100, 200, 300, 400], 'max_depth': [8, 9, 10, 11, 12], 'min_samples_split': [3, 4, 5, 6]}),\n",
    "    #'SVC': (SVC(), {'kernel': ['linear', 'rbf', 'sigmoid'], 'C': [1, 10, 50, 100, 150]}), #triga massa (>45min)\n",
    "    #'KNN': (KNeighborsClassifier(), {'n_neighbors': [11, 13, 15, 17, 19], 'weights': ['uniform', 'distance']}),\n",
    "    #'XGBoost': (XGBClassifier(), {'n_estimators': [5, 10, 20, 50, 100], 'max_depth': [1, 2, 3, 4], 'learning_rate': [0.01, 0.05, 0.1, 0.2]}),\n",
    "    #'Bagging': (BaggingClassifier(), {'n_estimators': [300, 400, 500], 'max_samples': [0.1, 0.5, 1.0], 'max_features': [0.1, 0.5, 1.0]}),\n",
    "    #'OvR Logistic Regression': (LogisticRegression(multi_class='ovr'), {'penalty': ['l2'], 'C': [0.001, 0.01, 0.1, 1, 10]}),\n",
    "    #'OvO Logistic Regression': (LogisticRegression(multi_class='multinomial', solver='newton-cg'), {'penalty': ['l2'], 'C': [0.001, 0.01, 0.05, 0.1, 1]})\n",
    "}\n",
    "    \n",
    "for name, (model, params) in tqdm(models.items()):\n",
    "    print('Model: ', name)\n",
    "    grid = GridSearchCV(model, params, cv=skf, scoring='accuracy', n_jobs=-1) #usem n_jobs per a paralelitzar el màxima possible\n",
    "    grid.fit(X_train, y_train)\n",
    "    print('Best score: ', grid.best_score_)\n",
    "    print('Best params: ', grid.best_params_)\n",
    "    print('-----------------------------------------------------')\n",
    "    \n",
    "    "
   ]
  },
  {
   "cell_type": "code",
   "execution_count": 120,
   "metadata": {},
   "outputs": [],
   "source": [
    "#no local_3streak i visitor_3streak\n",
    "# best_models1 = {\n",
    "#     'Basic Logistic Regression': LogisticRegression(),\n",
    "#     'Random Forest': RandomForestClassifier(n_estimators= 400, max_depth= 9, min_samples_split= 3),\n",
    "#     'XGBoost': XGBClassifier(n_estimators = 100, max_depth = 3, learning_rate = 0.1),\n",
    "#     #'Bagging': (BaggingClassifier(), {'n_estimators': [], 'max_samples': [], 'max_features': []}),\n",
    "#     'OvR Logistic Regression': LogisticRegression(multi_class='ovr', penalty = 'l2', C = 0.01),\n",
    "#     'OvO Logistic Regression': LogisticRegression(multi_class='multinomial', solver='newton-cg', penalty = 'l2', C = 0.1)\n",
    "# }\n",
    "\n",
    "#no local_5streak i visitor_5streak ni local_3streak i visitor_3streak\n",
    "best_models2 = {\n",
    "    'Basic Logistic Regression': LogisticRegression(),\n",
    "    'Random Forest': RandomForestClassifier(n_estimators= 400, max_depth= 10, min_samples_split= 3),\n",
    "    'XGBoost': XGBClassifier(n_estimators = 20, max_depth = 4, learning_rate = 0.01),\n",
    "    #'Bagging': (BaggingClassifier(), {'n_estimators': [], 'max_samples': [], 'max_features': []}),\n",
    "    'OvR Logistic Regression': LogisticRegression(multi_class='ovr', penalty = 'l2', C = 0.1),\n",
    "    'OvO Logistic Regression': LogisticRegression(multi_class='multinomial', solver='newton-cg', penalty = 'l2', C = 0.01)\n",
    " }\n",
    "#no local_5streak i visitor_5streak \n",
    "# best_models3 = {\n",
    "#     'Basic Logistic Regression': LogisticRegression(),\n",
    "#     'Random Forest': RandomForestClassifier(n_estimators= 300, max_depth= 10, min_samples_split= 5),\n",
    "#     'XGBoost': XGBClassifier(n_estimators = 50, max_depth = 4, learning_rate = 0.05),\n",
    "#     #'Bagging': (BaggingClassifier(), {'n_estimators': [], 'max_samples': [], 'max_features': []}),\n",
    "#     'OvR Logistic Regression': LogisticRegression(multi_class='ovr', penalty = 'l2', C = 0.01),\n",
    "#     'OvO Logistic Regression': LogisticRegression(multi_class='multinomial', solver='newton-cg', penalty = 'l2', C = 0.01)\n",
    "# }"
   ]
  },
  {
   "cell_type": "markdown",
   "metadata": {},
   "source": [
    "Prepare X_test"
   ]
  },
  {
   "cell_type": "code",
   "execution_count": 123,
   "metadata": {},
   "outputs": [],
   "source": [
    "X_test_original = X_test.copy()\n",
    "\n",
    "X_test['season'] = X_test['season'].apply(lambda x: int(x[:4]))\n",
    "\n",
    "X_test['season'] = ord_enc_season.transform(X_test['season'].values.reshape(-1, 1))\n",
    "X_test['round'] = ord_enc_round.transform(X_test['round'].values.reshape(-1, 1))\n",
    "X_test['month'] = ord_enc_month.transform(X_test['month'].values.reshape(-1, 1))\n",
    "X_test['day_of_week'] = ord_enc_day_of_week.transform(X_test['day_of_week'].values.reshape(-1, 1))\n",
    "\n",
    "keys_normalizer = X_test.keys()\n"
   ]
  },
  {
   "cell_type": "code",
   "execution_count": 124,
   "metadata": {},
   "outputs": [],
   "source": [
    "#transform:\n",
    "X_test = scaler.transform(X_test)\n",
    "X_test = pd.DataFrame(X_test, columns=keys_normalizer)"
   ]
  },
  {
   "cell_type": "code",
   "execution_count": 125,
   "metadata": {},
   "outputs": [
    {
     "name": "stdout",
     "output_type": "stream",
     "text": [
      "Training Basic Logistic Regression...\n",
      "Training Random Forest...\n",
      "Training XGBoost...\n",
      "Training OvR Logistic Regression...\n",
      "Training OvO Logistic Regression...\n"
     ]
    },
    {
     "name": "stderr",
     "output_type": "stream",
     "text": [
      "c:\\Users\\genis\\AppData\\Local\\Programs\\Python\\Python311\\Lib\\site-packages\\xgboost\\data.py:335: FutureWarning: is_sparse is deprecated and will be removed in a future version. Check `isinstance(dtype, pd.SparseDtype)` instead.\n",
      "  if is_sparse(dtype):\n",
      "c:\\Users\\genis\\AppData\\Local\\Programs\\Python\\Python311\\Lib\\site-packages\\xgboost\\data.py:338: FutureWarning: is_categorical_dtype is deprecated and will be removed in a future version. Use isinstance(dtype, CategoricalDtype) instead\n",
      "  is_categorical_dtype(dtype) or is_pa_ext_categorical_dtype(dtype)\n",
      "c:\\Users\\genis\\AppData\\Local\\Programs\\Python\\Python311\\Lib\\site-packages\\xgboost\\data.py:384: FutureWarning: is_categorical_dtype is deprecated and will be removed in a future version. Use isinstance(dtype, CategoricalDtype) instead\n",
      "  if is_categorical_dtype(dtype):\n",
      "c:\\Users\\genis\\AppData\\Local\\Programs\\Python\\Python311\\Lib\\site-packages\\xgboost\\data.py:359: FutureWarning: is_categorical_dtype is deprecated and will be removed in a future version. Use isinstance(dtype, CategoricalDtype) instead\n",
      "  return is_int or is_bool or is_float or is_categorical_dtype(dtype)\n",
      "c:\\Users\\genis\\AppData\\Local\\Programs\\Python\\Python311\\Lib\\site-packages\\xgboost\\data.py:520: FutureWarning: is_sparse is deprecated and will be removed in a future version. Check `isinstance(dtype, pd.SparseDtype)` instead.\n",
      "  if is_sparse(data):\n",
      "c:\\Users\\genis\\AppData\\Local\\Programs\\Python\\Python311\\Lib\\site-packages\\xgboost\\data.py:335: FutureWarning: is_sparse is deprecated and will be removed in a future version. Check `isinstance(dtype, pd.SparseDtype)` instead.\n",
      "  if is_sparse(dtype):\n",
      "c:\\Users\\genis\\AppData\\Local\\Programs\\Python\\Python311\\Lib\\site-packages\\xgboost\\data.py:338: FutureWarning: is_categorical_dtype is deprecated and will be removed in a future version. Use isinstance(dtype, CategoricalDtype) instead\n",
      "  is_categorical_dtype(dtype) or is_pa_ext_categorical_dtype(dtype)\n",
      "c:\\Users\\genis\\AppData\\Local\\Programs\\Python\\Python311\\Lib\\site-packages\\xgboost\\data.py:384: FutureWarning: is_categorical_dtype is deprecated and will be removed in a future version. Use isinstance(dtype, CategoricalDtype) instead\n",
      "  if is_categorical_dtype(dtype):\n",
      "c:\\Users\\genis\\AppData\\Local\\Programs\\Python\\Python311\\Lib\\site-packages\\xgboost\\data.py:359: FutureWarning: is_categorical_dtype is deprecated and will be removed in a future version. Use isinstance(dtype, CategoricalDtype) instead\n",
      "  return is_int or is_bool or is_float or is_categorical_dtype(dtype)\n"
     ]
    },
    {
     "data": {
      "text/html": [
       "<div>\n",
       "<style scoped>\n",
       "    .dataframe tbody tr th:only-of-type {\n",
       "        vertical-align: middle;\n",
       "    }\n",
       "\n",
       "    .dataframe tbody tr th {\n",
       "        vertical-align: top;\n",
       "    }\n",
       "\n",
       "    .dataframe thead th {\n",
       "        text-align: right;\n",
       "    }\n",
       "</style>\n",
       "<table border=\"1\" class=\"dataframe\">\n",
       "  <thead>\n",
       "    <tr style=\"text-align: right;\">\n",
       "      <th></th>\n",
       "      <th>accuracy</th>\n",
       "    </tr>\n",
       "  </thead>\n",
       "  <tbody>\n",
       "    <tr>\n",
       "      <th>XGBoost</th>\n",
       "      <td>0.511797</td>\n",
       "    </tr>\n",
       "    <tr>\n",
       "      <th>Basic Logistic Regression</th>\n",
       "      <td>0.511434</td>\n",
       "    </tr>\n",
       "    <tr>\n",
       "      <th>Random Forest</th>\n",
       "      <td>0.510708</td>\n",
       "    </tr>\n",
       "    <tr>\n",
       "      <th>OvR Logistic Regression</th>\n",
       "      <td>0.509982</td>\n",
       "    </tr>\n",
       "    <tr>\n",
       "      <th>OvO Logistic Regression</th>\n",
       "      <td>0.508530</td>\n",
       "    </tr>\n",
       "  </tbody>\n",
       "</table>\n",
       "</div>"
      ],
      "text/plain": [
       "                           accuracy\n",
       "XGBoost                    0.511797\n",
       "Basic Logistic Regression  0.511434\n",
       "Random Forest              0.510708\n",
       "OvR Logistic Regression    0.509982\n",
       "OvO Logistic Regression    0.508530"
      ]
     },
     "execution_count": 125,
     "metadata": {},
     "output_type": "execute_result"
    }
   ],
   "source": [
    "#Train with best hyperparameters:\n",
    "for name, model in best_models2.items():\n",
    "    print(f\"Training {name}...\")\n",
    "    model.fit(X_train, y_train)\n",
    "\n",
    "#Let's see the results:\n",
    "models_acc = {}\n",
    "for name, model in best_models2.items():\n",
    "    y_pred = model.predict(X_test)\n",
    "    report = classification_report(y_test, y_pred, output_dict=True)\n",
    "    models_acc[name] = report['accuracy']\n",
    "\n",
    "models_f1 = pd.DataFrame.from_dict(models_acc, orient='index', columns=['accuracy'])\n",
    "models_f1.sort_values(by='accuracy', ascending=False, inplace=True)\n",
    "models_f1\n",
    "    "
   ]
  },
  {
   "cell_type": "code",
   "execution_count": 126,
   "metadata": {},
   "outputs": [
    {
     "data": {
      "text/html": [
       "<div>\n",
       "<style scoped>\n",
       "    .dataframe tbody tr th:only-of-type {\n",
       "        vertical-align: middle;\n",
       "    }\n",
       "\n",
       "    .dataframe tbody tr th {\n",
       "        vertical-align: top;\n",
       "    }\n",
       "\n",
       "    .dataframe thead th {\n",
       "        text-align: right;\n",
       "    }\n",
       "</style>\n",
       "<table border=\"1\" class=\"dataframe\">\n",
       "  <thead>\n",
       "    <tr style=\"text-align: right;\">\n",
       "      <th></th>\n",
       "      <th>Random Forest</th>\n",
       "      <th>XGBoost</th>\n",
       "    </tr>\n",
       "  </thead>\n",
       "  <tbody>\n",
       "    <tr>\n",
       "      <th>season</th>\n",
       "      <td>0.089887</td>\n",
       "      <td>0.039378</td>\n",
       "    </tr>\n",
       "    <tr>\n",
       "      <th>round</th>\n",
       "      <td>0.062291</td>\n",
       "      <td>0.040862</td>\n",
       "    </tr>\n",
       "    <tr>\n",
       "      <th>T1PliS</th>\n",
       "      <td>0.089847</td>\n",
       "      <td>0.029541</td>\n",
       "    </tr>\n",
       "    <tr>\n",
       "      <th>T1PviS</th>\n",
       "      <td>0.096980</td>\n",
       "      <td>0.050880</td>\n",
       "    </tr>\n",
       "    <tr>\n",
       "      <th>T2PliS</th>\n",
       "      <td>0.090165</td>\n",
       "      <td>0.032135</td>\n",
       "    </tr>\n",
       "    <tr>\n",
       "      <th>T2PviS</th>\n",
       "      <td>0.083351</td>\n",
       "      <td>0.044136</td>\n",
       "    </tr>\n",
       "    <tr>\n",
       "      <th>month</th>\n",
       "      <td>0.032933</td>\n",
       "      <td>0.000000</td>\n",
       "    </tr>\n",
       "    <tr>\n",
       "      <th>day_of_week</th>\n",
       "      <td>0.028932</td>\n",
       "      <td>0.015449</td>\n",
       "    </tr>\n",
       "    <tr>\n",
       "      <th>GoalsliS</th>\n",
       "      <td>0.084077</td>\n",
       "      <td>0.017043</td>\n",
       "    </tr>\n",
       "    <tr>\n",
       "      <th>GoalsviS</th>\n",
       "      <td>0.089364</td>\n",
       "      <td>0.018294</td>\n",
       "    </tr>\n",
       "    <tr>\n",
       "      <th>last_1ra_loc</th>\n",
       "      <td>0.010957</td>\n",
       "      <td>0.015425</td>\n",
       "    </tr>\n",
       "    <tr>\n",
       "      <th>last_1ra_vis</th>\n",
       "      <td>0.007411</td>\n",
       "      <td>0.000000</td>\n",
       "    </tr>\n",
       "    <tr>\n",
       "      <th>Rk_loc</th>\n",
       "      <td>0.071517</td>\n",
       "      <td>0.045573</td>\n",
       "    </tr>\n",
       "    <tr>\n",
       "      <th>Rk_vis</th>\n",
       "      <td>0.072190</td>\n",
       "      <td>0.059572</td>\n",
       "    </tr>\n",
       "    <tr>\n",
       "      <th>last_top6_loc</th>\n",
       "      <td>0.043717</td>\n",
       "      <td>0.271426</td>\n",
       "    </tr>\n",
       "    <tr>\n",
       "      <th>last_top6_vis</th>\n",
       "      <td>0.046381</td>\n",
       "      <td>0.320285</td>\n",
       "    </tr>\n",
       "  </tbody>\n",
       "</table>\n",
       "</div>"
      ],
      "text/plain": [
       "               Random Forest   XGBoost\n",
       "season              0.089887  0.039378\n",
       "round               0.062291  0.040862\n",
       "T1PliS              0.089847  0.029541\n",
       "T1PviS              0.096980  0.050880\n",
       "T2PliS              0.090165  0.032135\n",
       "T2PviS              0.083351  0.044136\n",
       "month               0.032933  0.000000\n",
       "day_of_week         0.028932  0.015449\n",
       "GoalsliS            0.084077  0.017043\n",
       "GoalsviS            0.089364  0.018294\n",
       "last_1ra_loc        0.010957  0.015425\n",
       "last_1ra_vis        0.007411  0.000000\n",
       "Rk_loc              0.071517  0.045573\n",
       "Rk_vis              0.072190  0.059572\n",
       "last_top6_loc       0.043717  0.271426\n",
       "last_top6_vis       0.046381  0.320285"
      ]
     },
     "execution_count": 126,
     "metadata": {},
     "output_type": "execute_result"
    }
   ],
   "source": [
    "#feature importances dictionary:\n",
    "feature_importances_dic = {}\n",
    "for name, model in best_models2.items():\n",
    "    if name not in ['Basic Logistic Regression', 'OvO Logistic Regression', 'OvR Logistic Regression']:\n",
    "        feat_imp_aux = model.feature_importances_\n",
    "        feature_importances_dic[name] = feat_imp_aux\n",
    "\n",
    "df_feature_importances = pd.DataFrame(feature_importances_dic, index = X_test.columns)\n",
    "\n",
    "df_feature_importances\n",
    "        "
   ]
  },
  {
   "cell_type": "markdown",
   "metadata": {},
   "source": [
    "GRAPHICS:"
   ]
  },
  {
   "cell_type": "code",
   "execution_count": 1,
   "metadata": {},
   "outputs": [
    {
     "name": "stdout",
     "output_type": "stream",
     "text": [
      "[0.0, 0.21323339364174299, 0.9948933637225155, 1.2792045552448617]\n"
     ]
    },
    {
     "data": {
      "image/png": "[encoded data removed]",
      "text/plain": [
       "<Figure size 640x480 with 1 Axes>"
      ]
     },
     "metadata": {},
     "output_type": "display_data"
    }
   ],
   "source": [
    "import matplotlib.pyplot as plt\n",
    "import pandas as pd\n",
    "#NOstreak, 3streak, 5streak and 3&5streak in test\n",
    "labels = ['NOstreak', '3streak', '5streak', '3&5streak']\n",
    "accuracy = [0.510708, 0.511797, 0.515789, 0.517241]\n",
    "\n",
    "# pd.DataFrame({'Accuracy': accuracy}, index=labels).plot.bar(rot=0, color=['#5cb85c', '#5bc0de', '#d9534f'])\n",
    "# plt.title('Accuracy of Random Forest Model')\n",
    "# plt.xlabel('Streak')\n",
    "# plt.ylabel('Accuracy')\n",
    "# plt.ylim([0.5, 0.52])\n",
    "# plt.show()\n",
    "#compute a list which relates the NOstreak with its increment\n",
    "increment =  [(acc / accuracy[0] - 1) * 100 for acc in accuracy]\n",
    "print(increment)\n",
    "\n",
    "#plot the incrementation with the best plot for this case\n",
    "plt.bar(labels, increment, color=['#5cb85c', '#5bc0de', '#d9534f'])\n",
    "plt.title('Increment of Accuracy')\n",
    "plt.xlabel('Streak')\n",
    "plt.ylabel('Increment (%)')\n",
    "plt.ylim([0, 1.5])\n",
    "#add the value of each bar\n",
    "for i, v in enumerate(increment):\n",
    "    plt.text(i - 0.15, v + 0.03, str(round(v, 2)) + '%')\n",
    "\n",
    "plt.show()"
   ]
  },
  {
   "cell_type": "code",
   "execution_count": 2,
   "metadata": {},
   "outputs": [
    {
     "data": {
      "image/png": "[encoded data removed]",
      "text/plain": [
       "<Figure size 640x480 with 1 Axes>"
      ]
     },
     "metadata": {},
     "output_type": "display_data"
    }
   ],
   "source": [
    "#Feature importance of the models\n",
    "labels = ['3streak', '5streak']\n",
    "#tuple: (local,visitor) feature importance in random forest pel cas 3streak i 5streak\n",
    "feature_importance = [(0.040227,0.040629), (0.048801,0.048430)]\n",
    "\n",
    "pd.DataFrame({'Local': [i[0] for i in feature_importance], 'Visitor': [i[1] for i in feature_importance]}, index=labels).plot.bar(rot=0, color=['#FF6961', '#93B5C6'])\n",
    "plt.title('Feature importance of Random Forest Model')\n",
    "plt.xlabel('Streak')\n",
    "plt.ylabel('Feature importance')\n",
    "plt.ylim([0.035, 0.055])\n",
    "plt.show()"
   ]
  },
  {
   "cell_type": "code",
   "execution_count": null,
   "metadata": {},
   "outputs": [],
   "source": []
  }
 ],
 "metadata": {
  "kernelspec": {
   "display_name": "Python 3",
   "language": "python",
   "name": "python3"
  },
  "language_info": {
   "codemirror_mode": {
    "name": "ipython",
    "version": 3
   },
   "file_extension": ".py",
   "mimetype": "text/x-python",
   "name": "python",
   "nbconvert_exporter": "python",
   "pygments_lexer": "ipython3",
   "version": "3.11.2"
  }
 },
 "nbformat": 4,
 "nbformat_minor": 2
}
